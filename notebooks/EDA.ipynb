{
 "cells": [
  {
   "cell_type": "markdown",
   "id": "119aa1d8",
   "metadata": {},
   "source": [
    "# Exploratory Data Analysis (EDA)"
   ]
  },
  {
   "cell_type": "markdown",
   "id": "8709697b",
   "metadata": {},
   "source": [
    "### Modules"
   ]
  },
  {
   "cell_type": "code",
   "execution_count": 1,
   "id": "a1afea9f",
   "metadata": {},
   "outputs": [],
   "source": [
    "import pandas as pd\n",
    "pd.options.mode.chained_assignment = None  # default='warn'\n",
    "import sys\n",
    "sys.path.append(\"..\")\n",
    "from functions import create_ABT\n",
    "import seaborn as sns\n",
    "import matplotlib.pyplot as plt"
   ]
  },
  {
   "cell_type": "markdown",
   "id": "bb56fbca",
   "metadata": {},
   "source": [
    "### Getting the data"
   ]
  },
  {
   "cell_type": "code",
   "execution_count": 2,
   "id": "62b0fc85",
   "metadata": {},
   "outputs": [],
   "source": [
    "db_path = '../db/home_credit.db'\n",
    "query_folder = '../.queries'"
   ]
  },
  {
   "cell_type": "code",
   "execution_count": 3,
   "id": "de9805f2",
   "metadata": {},
   "outputs": [],
   "source": [
    "df = create_ABT(query_folder,db_path)"
   ]
  },
  {
   "cell_type": "code",
   "execution_count": 4,
   "id": "ff265bfe",
   "metadata": {},
   "outputs": [
    {
     "data": {
      "text/html": [
       "<div>\n",
       "<style scoped>\n",
       "    .dataframe tbody tr th:only-of-type {\n",
       "        vertical-align: middle;\n",
       "    }\n",
       "\n",
       "    .dataframe tbody tr th {\n",
       "        vertical-align: top;\n",
       "    }\n",
       "\n",
       "    .dataframe thead th {\n",
       "        text-align: right;\n",
       "    }\n",
       "</style>\n",
       "<table border=\"1\" class=\"dataframe\">\n",
       "  <thead>\n",
       "    <tr style=\"text-align: right;\">\n",
       "      <th></th>\n",
       "      <th>SK_ID_CURR</th>\n",
       "      <th>TARGET</th>\n",
       "      <th>NAME_CONTRACT_TYPE</th>\n",
       "      <th>CODE_GENDER</th>\n",
       "      <th>FLAG_OWN_CAR</th>\n",
       "      <th>FLAG_OWN_REALTY</th>\n",
       "      <th>CNT_CHILDREN</th>\n",
       "      <th>AMT_INCOME_TOTAL</th>\n",
       "      <th>AMT_CREDIT</th>\n",
       "      <th>AMT_ANNUITY</th>\n",
       "      <th>...</th>\n",
       "      <th>AMT_REQ_CREDIT_BUREAU_YEAR</th>\n",
       "      <th>MORE_THAN_120_DAYS_OVERDUE_ON_12M_FLAG</th>\n",
       "      <th>AMT_CREDIT_ACTIVE</th>\n",
       "      <th>HAS_DEBT</th>\n",
       "      <th>AMT_DAYS_OVERDUE</th>\n",
       "      <th>AMT_APPROVED_PREVIOUS_HC_LOAN</th>\n",
       "      <th>DAYS_OF_RELATIONSHIP</th>\n",
       "      <th>MAX_DAYS_DELAYED_INSTALLMENT_PAYMENT</th>\n",
       "      <th>MEAN_DAYS_DELAYED_INSTALLMENT_PAYMENT</th>\n",
       "      <th>ACCUMULATED_INSTALLMENT_PAYMENT_MISSING</th>\n",
       "    </tr>\n",
       "  </thead>\n",
       "  <tbody>\n",
       "    <tr>\n",
       "      <th>0</th>\n",
       "      <td>100002</td>\n",
       "      <td>1</td>\n",
       "      <td>Cash loans</td>\n",
       "      <td>M</td>\n",
       "      <td>N</td>\n",
       "      <td>Y</td>\n",
       "      <td>0</td>\n",
       "      <td>202500.0</td>\n",
       "      <td>406597.5</td>\n",
       "      <td>24700.5</td>\n",
       "      <td>...</td>\n",
       "      <td>1.0</td>\n",
       "      <td>0.0</td>\n",
       "      <td>2.0</td>\n",
       "      <td>1.0</td>\n",
       "      <td>0.0</td>\n",
       "      <td>1.0</td>\n",
       "      <td>606.0</td>\n",
       "      <td>0.0</td>\n",
       "      <td>0.000000</td>\n",
       "      <td>0.000000</td>\n",
       "    </tr>\n",
       "    <tr>\n",
       "      <th>1</th>\n",
       "      <td>100003</td>\n",
       "      <td>0</td>\n",
       "      <td>Cash loans</td>\n",
       "      <td>F</td>\n",
       "      <td>N</td>\n",
       "      <td>N</td>\n",
       "      <td>0</td>\n",
       "      <td>270000.0</td>\n",
       "      <td>1293502.5</td>\n",
       "      <td>35698.5</td>\n",
       "      <td>...</td>\n",
       "      <td>0.0</td>\n",
       "      <td>NaN</td>\n",
       "      <td>1.0</td>\n",
       "      <td>0.0</td>\n",
       "      <td>0.0</td>\n",
       "      <td>3.0</td>\n",
       "      <td>2341.0</td>\n",
       "      <td>0.0</td>\n",
       "      <td>0.000000</td>\n",
       "      <td>0.000000</td>\n",
       "    </tr>\n",
       "    <tr>\n",
       "      <th>2</th>\n",
       "      <td>100004</td>\n",
       "      <td>0</td>\n",
       "      <td>Revolving loans</td>\n",
       "      <td>M</td>\n",
       "      <td>Y</td>\n",
       "      <td>Y</td>\n",
       "      <td>0</td>\n",
       "      <td>67500.0</td>\n",
       "      <td>135000.0</td>\n",
       "      <td>6750.0</td>\n",
       "      <td>...</td>\n",
       "      <td>0.0</td>\n",
       "      <td>NaN</td>\n",
       "      <td>0.0</td>\n",
       "      <td>0.0</td>\n",
       "      <td>0.0</td>\n",
       "      <td>1.0</td>\n",
       "      <td>815.0</td>\n",
       "      <td>0.0</td>\n",
       "      <td>0.000000</td>\n",
       "      <td>0.000000</td>\n",
       "    </tr>\n",
       "    <tr>\n",
       "      <th>3</th>\n",
       "      <td>100006</td>\n",
       "      <td>0</td>\n",
       "      <td>Cash loans</td>\n",
       "      <td>F</td>\n",
       "      <td>N</td>\n",
       "      <td>Y</td>\n",
       "      <td>0</td>\n",
       "      <td>135000.0</td>\n",
       "      <td>312682.5</td>\n",
       "      <td>29686.5</td>\n",
       "      <td>...</td>\n",
       "      <td>NaN</td>\n",
       "      <td>NaN</td>\n",
       "      <td>NaN</td>\n",
       "      <td>NaN</td>\n",
       "      <td>NaN</td>\n",
       "      <td>5.0</td>\n",
       "      <td>617.0</td>\n",
       "      <td>0.0</td>\n",
       "      <td>0.000000</td>\n",
       "      <td>0.000000</td>\n",
       "    </tr>\n",
       "    <tr>\n",
       "      <th>4</th>\n",
       "      <td>100007</td>\n",
       "      <td>0</td>\n",
       "      <td>Cash loans</td>\n",
       "      <td>M</td>\n",
       "      <td>N</td>\n",
       "      <td>Y</td>\n",
       "      <td>0</td>\n",
       "      <td>121500.0</td>\n",
       "      <td>513000.0</td>\n",
       "      <td>21865.5</td>\n",
       "      <td>...</td>\n",
       "      <td>0.0</td>\n",
       "      <td>NaN</td>\n",
       "      <td>0.0</td>\n",
       "      <td>0.0</td>\n",
       "      <td>0.0</td>\n",
       "      <td>6.0</td>\n",
       "      <td>2357.0</td>\n",
       "      <td>12.0</td>\n",
       "      <td>0.954545</td>\n",
       "      <td>0.999950</td>\n",
       "    </tr>\n",
       "    <tr>\n",
       "      <th>...</th>\n",
       "      <td>...</td>\n",
       "      <td>...</td>\n",
       "      <td>...</td>\n",
       "      <td>...</td>\n",
       "      <td>...</td>\n",
       "      <td>...</td>\n",
       "      <td>...</td>\n",
       "      <td>...</td>\n",
       "      <td>...</td>\n",
       "      <td>...</td>\n",
       "      <td>...</td>\n",
       "      <td>...</td>\n",
       "      <td>...</td>\n",
       "      <td>...</td>\n",
       "      <td>...</td>\n",
       "      <td>...</td>\n",
       "      <td>...</td>\n",
       "      <td>...</td>\n",
       "      <td>...</td>\n",
       "      <td>...</td>\n",
       "      <td>...</td>\n",
       "    </tr>\n",
       "    <tr>\n",
       "      <th>307506</th>\n",
       "      <td>456251</td>\n",
       "      <td>0</td>\n",
       "      <td>Cash loans</td>\n",
       "      <td>M</td>\n",
       "      <td>N</td>\n",
       "      <td>N</td>\n",
       "      <td>0</td>\n",
       "      <td>157500.0</td>\n",
       "      <td>254700.0</td>\n",
       "      <td>27558.0</td>\n",
       "      <td>...</td>\n",
       "      <td>NaN</td>\n",
       "      <td>NaN</td>\n",
       "      <td>NaN</td>\n",
       "      <td>NaN</td>\n",
       "      <td>NaN</td>\n",
       "      <td>1.0</td>\n",
       "      <td>273.0</td>\n",
       "      <td>0.0</td>\n",
       "      <td>0.000000</td>\n",
       "      <td>0.000000</td>\n",
       "    </tr>\n",
       "    <tr>\n",
       "      <th>307507</th>\n",
       "      <td>456252</td>\n",
       "      <td>0</td>\n",
       "      <td>Cash loans</td>\n",
       "      <td>F</td>\n",
       "      <td>N</td>\n",
       "      <td>Y</td>\n",
       "      <td>0</td>\n",
       "      <td>72000.0</td>\n",
       "      <td>269550.0</td>\n",
       "      <td>12001.5</td>\n",
       "      <td>...</td>\n",
       "      <td>NaN</td>\n",
       "      <td>NaN</td>\n",
       "      <td>NaN</td>\n",
       "      <td>NaN</td>\n",
       "      <td>NaN</td>\n",
       "      <td>1.0</td>\n",
       "      <td>2497.0</td>\n",
       "      <td>3.0</td>\n",
       "      <td>0.500000</td>\n",
       "      <td>0.000000</td>\n",
       "    </tr>\n",
       "    <tr>\n",
       "      <th>307508</th>\n",
       "      <td>456253</td>\n",
       "      <td>0</td>\n",
       "      <td>Cash loans</td>\n",
       "      <td>F</td>\n",
       "      <td>N</td>\n",
       "      <td>Y</td>\n",
       "      <td>0</td>\n",
       "      <td>153000.0</td>\n",
       "      <td>677664.0</td>\n",
       "      <td>29979.0</td>\n",
       "      <td>...</td>\n",
       "      <td>1.0</td>\n",
       "      <td>0.0</td>\n",
       "      <td>2.0</td>\n",
       "      <td>1.0</td>\n",
       "      <td>0.0</td>\n",
       "      <td>2.0</td>\n",
       "      <td>2851.0</td>\n",
       "      <td>9.0</td>\n",
       "      <td>0.642857</td>\n",
       "      <td>0.993136</td>\n",
       "    </tr>\n",
       "    <tr>\n",
       "      <th>307509</th>\n",
       "      <td>456254</td>\n",
       "      <td>1</td>\n",
       "      <td>Cash loans</td>\n",
       "      <td>F</td>\n",
       "      <td>N</td>\n",
       "      <td>Y</td>\n",
       "      <td>0</td>\n",
       "      <td>171000.0</td>\n",
       "      <td>370107.0</td>\n",
       "      <td>20205.0</td>\n",
       "      <td>...</td>\n",
       "      <td>0.0</td>\n",
       "      <td>0.0</td>\n",
       "      <td>0.0</td>\n",
       "      <td>0.0</td>\n",
       "      <td>0.0</td>\n",
       "      <td>2.0</td>\n",
       "      <td>322.0</td>\n",
       "      <td>0.0</td>\n",
       "      <td>0.000000</td>\n",
       "      <td>0.000000</td>\n",
       "    </tr>\n",
       "    <tr>\n",
       "      <th>307510</th>\n",
       "      <td>456255</td>\n",
       "      <td>0</td>\n",
       "      <td>Cash loans</td>\n",
       "      <td>F</td>\n",
       "      <td>N</td>\n",
       "      <td>N</td>\n",
       "      <td>0</td>\n",
       "      <td>157500.0</td>\n",
       "      <td>675000.0</td>\n",
       "      <td>49117.5</td>\n",
       "      <td>...</td>\n",
       "      <td>1.0</td>\n",
       "      <td>0.0</td>\n",
       "      <td>5.0</td>\n",
       "      <td>1.0</td>\n",
       "      <td>0.0</td>\n",
       "      <td>6.0</td>\n",
       "      <td>991.0</td>\n",
       "      <td>7.0</td>\n",
       "      <td>0.702703</td>\n",
       "      <td>0.997868</td>\n",
       "    </tr>\n",
       "  </tbody>\n",
       "</table>\n",
       "<p>307511 rows × 131 columns</p>\n",
       "</div>"
      ],
      "text/plain": [
       "        SK_ID_CURR  TARGET NAME_CONTRACT_TYPE CODE_GENDER FLAG_OWN_CAR  \\\n",
       "0           100002       1         Cash loans           M            N   \n",
       "1           100003       0         Cash loans           F            N   \n",
       "2           100004       0    Revolving loans           M            Y   \n",
       "3           100006       0         Cash loans           F            N   \n",
       "4           100007       0         Cash loans           M            N   \n",
       "...            ...     ...                ...         ...          ...   \n",
       "307506      456251       0         Cash loans           M            N   \n",
       "307507      456252       0         Cash loans           F            N   \n",
       "307508      456253       0         Cash loans           F            N   \n",
       "307509      456254       1         Cash loans           F            N   \n",
       "307510      456255       0         Cash loans           F            N   \n",
       "\n",
       "       FLAG_OWN_REALTY  CNT_CHILDREN  AMT_INCOME_TOTAL  AMT_CREDIT  \\\n",
       "0                    Y             0          202500.0    406597.5   \n",
       "1                    N             0          270000.0   1293502.5   \n",
       "2                    Y             0           67500.0    135000.0   \n",
       "3                    Y             0          135000.0    312682.5   \n",
       "4                    Y             0          121500.0    513000.0   \n",
       "...                ...           ...               ...         ...   \n",
       "307506               N             0          157500.0    254700.0   \n",
       "307507               Y             0           72000.0    269550.0   \n",
       "307508               Y             0          153000.0    677664.0   \n",
       "307509               Y             0          171000.0    370107.0   \n",
       "307510               N             0          157500.0    675000.0   \n",
       "\n",
       "        AMT_ANNUITY  ...  AMT_REQ_CREDIT_BUREAU_YEAR  \\\n",
       "0           24700.5  ...                         1.0   \n",
       "1           35698.5  ...                         0.0   \n",
       "2            6750.0  ...                         0.0   \n",
       "3           29686.5  ...                         NaN   \n",
       "4           21865.5  ...                         0.0   \n",
       "...             ...  ...                         ...   \n",
       "307506      27558.0  ...                         NaN   \n",
       "307507      12001.5  ...                         NaN   \n",
       "307508      29979.0  ...                         1.0   \n",
       "307509      20205.0  ...                         0.0   \n",
       "307510      49117.5  ...                         1.0   \n",
       "\n",
       "       MORE_THAN_120_DAYS_OVERDUE_ON_12M_FLAG AMT_CREDIT_ACTIVE HAS_DEBT  \\\n",
       "0                                         0.0               2.0      1.0   \n",
       "1                                         NaN               1.0      0.0   \n",
       "2                                         NaN               0.0      0.0   \n",
       "3                                         NaN               NaN      NaN   \n",
       "4                                         NaN               0.0      0.0   \n",
       "...                                       ...               ...      ...   \n",
       "307506                                    NaN               NaN      NaN   \n",
       "307507                                    NaN               NaN      NaN   \n",
       "307508                                    0.0               2.0      1.0   \n",
       "307509                                    0.0               0.0      0.0   \n",
       "307510                                    0.0               5.0      1.0   \n",
       "\n",
       "       AMT_DAYS_OVERDUE AMT_APPROVED_PREVIOUS_HC_LOAN  DAYS_OF_RELATIONSHIP  \\\n",
       "0                   0.0                           1.0                 606.0   \n",
       "1                   0.0                           3.0                2341.0   \n",
       "2                   0.0                           1.0                 815.0   \n",
       "3                   NaN                           5.0                 617.0   \n",
       "4                   0.0                           6.0                2357.0   \n",
       "...                 ...                           ...                   ...   \n",
       "307506              NaN                           1.0                 273.0   \n",
       "307507              NaN                           1.0                2497.0   \n",
       "307508              0.0                           2.0                2851.0   \n",
       "307509              0.0                           2.0                 322.0   \n",
       "307510              0.0                           6.0                 991.0   \n",
       "\n",
       "        MAX_DAYS_DELAYED_INSTALLMENT_PAYMENT  \\\n",
       "0                                        0.0   \n",
       "1                                        0.0   \n",
       "2                                        0.0   \n",
       "3                                        0.0   \n",
       "4                                       12.0   \n",
       "...                                      ...   \n",
       "307506                                   0.0   \n",
       "307507                                   3.0   \n",
       "307508                                   9.0   \n",
       "307509                                   0.0   \n",
       "307510                                   7.0   \n",
       "\n",
       "        MEAN_DAYS_DELAYED_INSTALLMENT_PAYMENT  \\\n",
       "0                                    0.000000   \n",
       "1                                    0.000000   \n",
       "2                                    0.000000   \n",
       "3                                    0.000000   \n",
       "4                                    0.954545   \n",
       "...                                       ...   \n",
       "307506                               0.000000   \n",
       "307507                               0.500000   \n",
       "307508                               0.642857   \n",
       "307509                               0.000000   \n",
       "307510                               0.702703   \n",
       "\n",
       "        ACCUMULATED_INSTALLMENT_PAYMENT_MISSING  \n",
       "0                                      0.000000  \n",
       "1                                      0.000000  \n",
       "2                                      0.000000  \n",
       "3                                      0.000000  \n",
       "4                                      0.999950  \n",
       "...                                         ...  \n",
       "307506                                 0.000000  \n",
       "307507                                 0.000000  \n",
       "307508                                 0.993136  \n",
       "307509                                 0.000000  \n",
       "307510                                 0.997868  \n",
       "\n",
       "[307511 rows x 131 columns]"
      ]
     },
     "metadata": {},
     "output_type": "display_data"
    }
   ],
   "source": [
    "display(df)"
   ]
  },
  {
   "cell_type": "markdown",
   "id": "db5d14f8",
   "metadata": {},
   "source": [
    "## 1 Target"
   ]
  },
  {
   "cell_type": "code",
   "execution_count": 5,
   "id": "5875a694",
   "metadata": {},
   "outputs": [
    {
     "name": "stdout",
     "output_type": "stream",
     "text": [
      "Target:\n",
      "8.07% paid and\n",
      "91.93% defaulting\n"
     ]
    },
    {
     "data": {
      "image/png": "[encoded data removed]",
      "text/plain": [
       "<Figure size 432x288 with 1 Axes>"
      ]
     },
     "metadata": {},
     "output_type": "display_data"
    }
   ],
   "source": [
    "target_porc = pd.Series((df['TARGET'].value_counts(normalize=True)*100).values)\n",
    "print(f'Target:\\n{target_porc[1]:.2f}% paid and\\n{target_porc[0]:.2f}% defaulting')\n",
    "\n",
    "sns.set_theme(style=\"darkgrid\")\n",
    "ax = sns.countplot(x=\"TARGET\", data=df)\n",
    "ax.set(xlabel='Target',\n",
    "       ylabel='Count',\n",
    "       ylim=(0, 300000),\n",
    "       xticklabels=['Defaulting','Paid'])\n",
    "for p in ax.patches:\n",
    "    ax.annotate(format(p.get_height(), '.0f'), (p.get_x() + p.get_width() / 2., p.get_height()), ha = 'center', va = 'center', xytext = (0, 10), textcoords = 'offset points')"
   ]
  },
  {
   "cell_type": "markdown",
   "id": "092558ae",
   "metadata": {},
   "source": [
    "## 2 Gender"
   ]
  },
  {
   "cell_type": "code",
   "execution_count": 6,
   "id": "ca6a7818",
   "metadata": {},
   "outputs": [
    {
     "data": {
      "text/html": [
       "<div>\n",
       "<style scoped>\n",
       "    .dataframe tbody tr th:only-of-type {\n",
       "        vertical-align: middle;\n",
       "    }\n",
       "\n",
       "    .dataframe tbody tr th {\n",
       "        vertical-align: top;\n",
       "    }\n",
       "\n",
       "    .dataframe thead th {\n",
       "        text-align: right;\n",
       "    }\n",
       "</style>\n",
       "<table border=\"1\" class=\"dataframe\">\n",
       "  <thead>\n",
       "    <tr style=\"text-align: right;\">\n",
       "      <th></th>\n",
       "      <th></th>\n",
       "      <th>Distribution (%)</th>\n",
       "    </tr>\n",
       "    <tr>\n",
       "      <th>TARGET</th>\n",
       "      <th>CODE_GENDER</th>\n",
       "      <th></th>\n",
       "    </tr>\n",
       "  </thead>\n",
       "  <tbody>\n",
       "    <tr>\n",
       "      <th rowspan=\"2\" valign=\"top\">0</th>\n",
       "      <th>F</th>\n",
       "      <td>61.226428</td>\n",
       "    </tr>\n",
       "    <tr>\n",
       "      <th>M</th>\n",
       "      <td>30.699390</td>\n",
       "    </tr>\n",
       "    <tr>\n",
       "      <th rowspan=\"2\" valign=\"top\">1</th>\n",
       "      <th>F</th>\n",
       "      <td>4.607965</td>\n",
       "    </tr>\n",
       "    <tr>\n",
       "      <th>M</th>\n",
       "      <td>3.464917</td>\n",
       "    </tr>\n",
       "    <tr>\n",
       "      <th>0</th>\n",
       "      <th>XNA</th>\n",
       "      <td>0.001301</td>\n",
       "    </tr>\n",
       "  </tbody>\n",
       "</table>\n",
       "</div>"
      ],
      "text/plain": [
       "                    Distribution (%)\n",
       "TARGET CODE_GENDER                  \n",
       "0      F                   61.226428\n",
       "       M                   30.699390\n",
       "1      F                    4.607965\n",
       "       M                    3.464917\n",
       "0      XNA                  0.001301"
      ]
     },
     "metadata": {},
     "output_type": "display_data"
    },
    {
     "data": {
      "text/plain": [
       "<AxesSubplot:xlabel='CODE_GENDER', ylabel='count'>"
      ]
     },
     "execution_count": 6,
     "metadata": {},
     "output_type": "execute_result"
    },
    {
     "data": {
      "image/png": "[encoded data removed]",
      "text/plain": [
       "<Figure size 432x288 with 1 Axes>"
      ]
     },
     "metadata": {},
     "output_type": "display_data"
    }
   ],
   "source": [
    "gender_porc = pd.DataFrame(df[['TARGET','CODE_GENDER']].value_counts(normalize=True)*100,columns=['Distribution (%)'])\n",
    "display(gender_porc)\n",
    "\n",
    "sns.set_theme(style=\"darkgrid\")\n",
    "sns.countplot(x=\"CODE_GENDER\", hue=\"TARGET\", data=df)"
   ]
  },
  {
   "cell_type": "markdown",
   "id": "5e53708b",
   "metadata": {},
   "source": [
    "## 3 Contract type"
   ]
  },
  {
   "cell_type": "code",
   "execution_count": 7,
   "id": "1bd6c2e1",
   "metadata": {},
   "outputs": [
    {
     "data": {
      "text/html": [
       "<div>\n",
       "<style scoped>\n",
       "    .dataframe tbody tr th:only-of-type {\n",
       "        vertical-align: middle;\n",
       "    }\n",
       "\n",
       "    .dataframe tbody tr th {\n",
       "        vertical-align: top;\n",
       "    }\n",
       "\n",
       "    .dataframe thead th {\n",
       "        text-align: right;\n",
       "    }\n",
       "</style>\n",
       "<table border=\"1\" class=\"dataframe\">\n",
       "  <thead>\n",
       "    <tr style=\"text-align: right;\">\n",
       "      <th></th>\n",
       "      <th></th>\n",
       "      <th>Distribution (%)</th>\n",
       "    </tr>\n",
       "    <tr>\n",
       "      <th>TARGET</th>\n",
       "      <th>NAME_CONTRACT_TYPE</th>\n",
       "      <th></th>\n",
       "    </tr>\n",
       "  </thead>\n",
       "  <tbody>\n",
       "    <tr>\n",
       "      <th rowspan=\"2\" valign=\"top\">0</th>\n",
       "      <th>Cash loans</th>\n",
       "      <td>82.927440</td>\n",
       "    </tr>\n",
       "    <tr>\n",
       "      <th>Revolving loans</th>\n",
       "      <td>8.999678</td>\n",
       "    </tr>\n",
       "    <tr>\n",
       "      <th rowspan=\"2\" valign=\"top\">1</th>\n",
       "      <th>Cash loans</th>\n",
       "      <td>7.551275</td>\n",
       "    </tr>\n",
       "    <tr>\n",
       "      <th>Revolving loans</th>\n",
       "      <td>0.521607</td>\n",
       "    </tr>\n",
       "  </tbody>\n",
       "</table>\n",
       "</div>"
      ],
      "text/plain": [
       "                           Distribution (%)\n",
       "TARGET NAME_CONTRACT_TYPE                  \n",
       "0      Cash loans                 82.927440\n",
       "       Revolving loans             8.999678\n",
       "1      Cash loans                  7.551275\n",
       "       Revolving loans             0.521607"
      ]
     },
     "metadata": {},
     "output_type": "display_data"
    },
    {
     "data": {
      "image/png": "[encoded data removed]",
      "text/plain": [
       "<Figure size 432x288 with 1 Axes>"
      ]
     },
     "metadata": {},
     "output_type": "display_data"
    }
   ],
   "source": [
    "contract_porc = pd.DataFrame(df[['TARGET','NAME_CONTRACT_TYPE']].value_counts(normalize=True)*100,columns=['Distribution (%)'])\n",
    "display(contract_porc)\n",
    "\n",
    "ax2 = sns.countplot(x=\"NAME_CONTRACT_TYPE\", hue=\"TARGET\", data=df)\n",
    "for p in ax2.patches:\n",
    "    ax2.annotate(format(p.get_height(), '.0f'), (p.get_x() + p.get_width() / 2., p.get_height()), ha = 'center', va = 'center', xytext = (0, 10), textcoords = 'offset points')"
   ]
  },
  {
   "cell_type": "markdown",
   "id": "6042b40d",
   "metadata": {},
   "source": [
    "## 4 Car and realty"
   ]
  },
  {
   "cell_type": "code",
   "execution_count": 8,
   "id": "b15017bd",
   "metadata": {},
   "outputs": [
    {
     "data": {
      "text/html": [
       "<div>\n",
       "<style scoped>\n",
       "    .dataframe tbody tr th:only-of-type {\n",
       "        vertical-align: middle;\n",
       "    }\n",
       "\n",
       "    .dataframe tbody tr th {\n",
       "        vertical-align: top;\n",
       "    }\n",
       "\n",
       "    .dataframe thead th {\n",
       "        text-align: right;\n",
       "    }\n",
       "</style>\n",
       "<table border=\"1\" class=\"dataframe\">\n",
       "  <thead>\n",
       "    <tr style=\"text-align: right;\">\n",
       "      <th></th>\n",
       "      <th></th>\n",
       "      <th></th>\n",
       "      <th>Distribution (%)</th>\n",
       "    </tr>\n",
       "    <tr>\n",
       "      <th>TARGET</th>\n",
       "      <th>FLAG_OWN_CAR</th>\n",
       "      <th>FLAG_OWN_REALTY</th>\n",
       "      <th></th>\n",
       "    </tr>\n",
       "  </thead>\n",
       "  <tbody>\n",
       "    <tr>\n",
       "      <th rowspan=\"4\" valign=\"top\">0</th>\n",
       "      <th>N</th>\n",
       "      <th>Y</th>\n",
       "      <td>42.039147</td>\n",
       "    </tr>\n",
       "    <tr>\n",
       "      <th>Y</th>\n",
       "      <th>Y</th>\n",
       "      <td>21.805399</td>\n",
       "    </tr>\n",
       "    <tr>\n",
       "      <th>N</th>\n",
       "      <th>N</th>\n",
       "      <td>18.340807</td>\n",
       "    </tr>\n",
       "    <tr>\n",
       "      <th>Y</th>\n",
       "      <th>N</th>\n",
       "      <td>9.741765</td>\n",
       "    </tr>\n",
       "    <tr>\n",
       "      <th rowspan=\"4\" valign=\"top\">1</th>\n",
       "      <th rowspan=\"2\" valign=\"top\">N</th>\n",
       "      <th>Y</th>\n",
       "      <td>3.797263</td>\n",
       "    </tr>\n",
       "    <tr>\n",
       "      <th>N</th>\n",
       "      <td>1.811968</td>\n",
       "    </tr>\n",
       "    <tr>\n",
       "      <th rowspan=\"2\" valign=\"top\">Y</th>\n",
       "      <th>Y</th>\n",
       "      <td>1.725467</td>\n",
       "    </tr>\n",
       "    <tr>\n",
       "      <th>N</th>\n",
       "      <td>0.738185</td>\n",
       "    </tr>\n",
       "  </tbody>\n",
       "</table>\n",
       "</div>"
      ],
      "text/plain": [
       "                                     Distribution (%)\n",
       "TARGET FLAG_OWN_CAR FLAG_OWN_REALTY                  \n",
       "0      N            Y                       42.039147\n",
       "       Y            Y                       21.805399\n",
       "       N            N                       18.340807\n",
       "       Y            N                        9.741765\n",
       "1      N            Y                        3.797263\n",
       "                    N                        1.811968\n",
       "       Y            Y                        1.725467\n",
       "                    N                        0.738185"
      ]
     },
     "metadata": {},
     "output_type": "display_data"
    },
    {
     "data": {
      "text/plain": [
       "[[Text(0, 0, 'Car + realty'),\n",
       "  Text(1, 0, 'Only car'),\n",
       "  Text(2, 0, 'Only realty'),\n",
       "  Text(3, 0, 'Neither')]]"
      ]
     },
     "execution_count": 8,
     "metadata": {},
     "output_type": "execute_result"
    },
    {
     "data": {
      "image/png": "[encoded data removed]",
      "text/plain": [
       "<Figure size 432x288 with 1 Axes>"
      ]
     },
     "metadata": {},
     "output_type": "display_data"
    }
   ],
   "source": [
    "display(pd.DataFrame(df[['TARGET','FLAG_OWN_CAR','FLAG_OWN_REALTY']].value_counts(normalize=True)*100,columns=['Distribution (%)']))\n",
    "\n",
    "sdf = df['FLAG_OWN_CAR'] + df['FLAG_OWN_REALTY']\n",
    "sns.countplot(data=df, x=sdf, hue='TARGET', order=['YY','YN','NY','NN']).set(xticklabels=['Car + realty','Only car','Only realty','Neither'])"
   ]
  },
  {
   "cell_type": "markdown",
   "id": "f5c04e9e",
   "metadata": {},
   "source": [
    "## 5 At least 120 days overdue on the past 12 months in previous Home Credit loans"
   ]
  },
  {
   "cell_type": "code",
   "execution_count": 9,
   "id": "821814df",
   "metadata": {},
   "outputs": [
    {
     "data": {
      "text/html": [
       "<div>\n",
       "<style scoped>\n",
       "    .dataframe tbody tr th:only-of-type {\n",
       "        vertical-align: middle;\n",
       "    }\n",
       "\n",
       "    .dataframe tbody tr th {\n",
       "        vertical-align: top;\n",
       "    }\n",
       "\n",
       "    .dataframe thead th {\n",
       "        text-align: right;\n",
       "    }\n",
       "</style>\n",
       "<table border=\"1\" class=\"dataframe\">\n",
       "  <thead>\n",
       "    <tr style=\"text-align: right;\">\n",
       "      <th></th>\n",
       "      <th></th>\n",
       "      <th>Distribution (%)</th>\n",
       "    </tr>\n",
       "    <tr>\n",
       "      <th>TARGET</th>\n",
       "      <th>MORE_THAN_120_DAYS_OVERDUE_ON_12M_FLAG</th>\n",
       "      <th></th>\n",
       "    </tr>\n",
       "  </thead>\n",
       "  <tbody>\n",
       "    <tr>\n",
       "      <th>0</th>\n",
       "      <th>0.0</th>\n",
       "      <td>90.844484</td>\n",
       "    </tr>\n",
       "    <tr>\n",
       "      <th>1</th>\n",
       "      <th>0.0</th>\n",
       "      <td>8.046194</td>\n",
       "    </tr>\n",
       "    <tr>\n",
       "      <th>0</th>\n",
       "      <th>1.0</th>\n",
       "      <td>0.981622</td>\n",
       "    </tr>\n",
       "    <tr>\n",
       "      <th>1</th>\n",
       "      <th>1.0</th>\n",
       "      <td>0.127700</td>\n",
       "    </tr>\n",
       "  </tbody>\n",
       "</table>\n",
       "</div>"
      ],
      "text/plain": [
       "                                               Distribution (%)\n",
       "TARGET MORE_THAN_120_DAYS_OVERDUE_ON_12M_FLAG                  \n",
       "0      0.0                                            90.844484\n",
       "1      0.0                                             8.046194\n",
       "0      1.0                                             0.981622\n",
       "1      1.0                                             0.127700"
      ]
     },
     "metadata": {},
     "output_type": "display_data"
    },
    {
     "data": {
      "image/png": "[encoded data removed]",
      "text/plain": [
       "<Figure size 432x288 with 1 Axes>"
      ]
     },
     "metadata": {},
     "output_type": "display_data"
    }
   ],
   "source": [
    "display(pd.DataFrame(df[['TARGET','MORE_THAN_120_DAYS_OVERDUE_ON_12M_FLAG']].value_counts(normalize=True)*100,columns=['Distribution (%)']))\n",
    "ax = sns.countplot(x=\"MORE_THAN_120_DAYS_OVERDUE_ON_12M_FLAG\", hue=\"TARGET\", data=df)\n",
    "for p in ax.patches:\n",
    "    ax.annotate(format(p.get_height(), '.0f'), (p.get_x() + p.get_width() / 2., p.get_height()), ha = 'center', va = 'center', xytext = (0, 10), textcoords = 'offset points')"
   ]
  },
  {
   "cell_type": "markdown",
   "id": "735bfb35",
   "metadata": {},
   "source": [
    "## 6 Amount of credits active at the moment of application"
   ]
  },
  {
   "cell_type": "code",
   "execution_count": 10,
   "id": "3cc81bbb",
   "metadata": {},
   "outputs": [
    {
     "name": "stdout",
     "output_type": "stream",
     "text": [
      "Orange: paid; Blue: Defaulting\n"
     ]
    },
    {
     "data": {
      "image/png": "[encoded data removed]",
      "text/plain": [
       "<Figure size 432x288 with 1 Axes>"
      ]
     },
     "metadata": {},
     "output_type": "display_data"
    }
   ],
   "source": [
    "df.loc[df[\"TARGET\"]==0]['AMT_CREDIT_ACTIVE'].hist(alpha = 0.5)\n",
    "df.loc[df[\"TARGET\"]==1]['AMT_CREDIT_ACTIVE'].hist(alpha = 0.5)\n",
    "print(\"Orange: paid; Blue: Defaulting\")"
   ]
  },
  {
   "cell_type": "markdown",
   "id": "3669cd23",
   "metadata": {},
   "source": [
    "## 7 Has active debt"
   ]
  },
  {
   "cell_type": "code",
   "execution_count": 11,
   "id": "f9d80b1c",
   "metadata": {},
   "outputs": [
    {
     "data": {
      "text/html": [
       "<div>\n",
       "<style scoped>\n",
       "    .dataframe tbody tr th:only-of-type {\n",
       "        vertical-align: middle;\n",
       "    }\n",
       "\n",
       "    .dataframe tbody tr th {\n",
       "        vertical-align: top;\n",
       "    }\n",
       "\n",
       "    .dataframe thead th {\n",
       "        text-align: right;\n",
       "    }\n",
       "</style>\n",
       "<table border=\"1\" class=\"dataframe\">\n",
       "  <thead>\n",
       "    <tr style=\"text-align: right;\">\n",
       "      <th></th>\n",
       "      <th></th>\n",
       "      <th>Distribution (%)</th>\n",
       "    </tr>\n",
       "    <tr>\n",
       "      <th>TARGET</th>\n",
       "      <th>HAS_DEBT</th>\n",
       "      <th></th>\n",
       "    </tr>\n",
       "  </thead>\n",
       "  <tbody>\n",
       "    <tr>\n",
       "      <th rowspan=\"2\" valign=\"top\">0</th>\n",
       "      <th>1.0</th>\n",
       "      <td>64.241283</td>\n",
       "    </tr>\n",
       "    <tr>\n",
       "      <th>0.0</th>\n",
       "      <td>28.028661</td>\n",
       "    </tr>\n",
       "    <tr>\n",
       "      <th rowspan=\"2\" valign=\"top\">1</th>\n",
       "      <th>1.0</th>\n",
       "      <td>6.045368</td>\n",
       "    </tr>\n",
       "    <tr>\n",
       "      <th>0.0</th>\n",
       "      <td>1.684688</td>\n",
       "    </tr>\n",
       "  </tbody>\n",
       "</table>\n",
       "</div>"
      ],
      "text/plain": [
       "                 Distribution (%)\n",
       "TARGET HAS_DEBT                  \n",
       "0      1.0              64.241283\n",
       "       0.0              28.028661\n",
       "1      1.0               6.045368\n",
       "       0.0               1.684688"
      ]
     },
     "metadata": {},
     "output_type": "display_data"
    },
    {
     "data": {
      "text/plain": [
       "<AxesSubplot:xlabel='HAS_DEBT', ylabel='count'>"
      ]
     },
     "execution_count": 11,
     "metadata": {},
     "output_type": "execute_result"
    },
    {
     "data": {
      "image/png": "[encoded data removed]",
      "text/plain": [
       "<Figure size 432x288 with 1 Axes>"
      ]
     },
     "metadata": {},
     "output_type": "display_data"
    }
   ],
   "source": [
    "df['HAS_DEBT']\n",
    "debt_porc = pd.DataFrame(df[['TARGET','HAS_DEBT']].value_counts(normalize=True)*100,columns=['Distribution (%)'])\n",
    "display(debt_porc)\n",
    "\n",
    "sns.set_theme(style=\"darkgrid\")\n",
    "sns.countplot(x=\"HAS_DEBT\", hue=\"TARGET\", data=df)"
   ]
  },
  {
   "cell_type": "markdown",
   "id": "cd5fc754",
   "metadata": {},
   "source": [
    "## 8 Total amount of days overdue at the time of application"
   ]
  },
  {
   "cell_type": "code",
   "execution_count": 12,
   "id": "eb8fef91",
   "metadata": {},
   "outputs": [
    {
     "data": {
      "text/html": [
       "<div>\n",
       "<style scoped>\n",
       "    .dataframe tbody tr th:only-of-type {\n",
       "        vertical-align: middle;\n",
       "    }\n",
       "\n",
       "    .dataframe tbody tr th {\n",
       "        vertical-align: top;\n",
       "    }\n",
       "\n",
       "    .dataframe thead th {\n",
       "        text-align: right;\n",
       "    }\n",
       "</style>\n",
       "<table border=\"1\" class=\"dataframe\">\n",
       "  <thead>\n",
       "    <tr style=\"text-align: right;\">\n",
       "      <th></th>\n",
       "      <th>AMT_DAYS_OVERDUE</th>\n",
       "    </tr>\n",
       "  </thead>\n",
       "  <tbody>\n",
       "    <tr>\n",
       "      <th>count</th>\n",
       "      <td>263491.000000</td>\n",
       "    </tr>\n",
       "    <tr>\n",
       "      <th>mean</th>\n",
       "      <td>4.942575</td>\n",
       "    </tr>\n",
       "    <tr>\n",
       "      <th>std</th>\n",
       "      <td>92.513420</td>\n",
       "    </tr>\n",
       "    <tr>\n",
       "      <th>min</th>\n",
       "      <td>0.000000</td>\n",
       "    </tr>\n",
       "    <tr>\n",
       "      <th>25%</th>\n",
       "      <td>0.000000</td>\n",
       "    </tr>\n",
       "    <tr>\n",
       "      <th>50%</th>\n",
       "      <td>0.000000</td>\n",
       "    </tr>\n",
       "    <tr>\n",
       "      <th>75%</th>\n",
       "      <td>0.000000</td>\n",
       "    </tr>\n",
       "    <tr>\n",
       "      <th>90%</th>\n",
       "      <td>0.000000</td>\n",
       "    </tr>\n",
       "    <tr>\n",
       "      <th>99%</th>\n",
       "      <td>17.000000</td>\n",
       "    </tr>\n",
       "    <tr>\n",
       "      <th>max</th>\n",
       "      <td>5250.000000</td>\n",
       "    </tr>\n",
       "  </tbody>\n",
       "</table>\n",
       "</div>"
      ],
      "text/plain": [
       "       AMT_DAYS_OVERDUE\n",
       "count     263491.000000\n",
       "mean           4.942575\n",
       "std           92.513420\n",
       "min            0.000000\n",
       "25%            0.000000\n",
       "50%            0.000000\n",
       "75%            0.000000\n",
       "90%            0.000000\n",
       "99%           17.000000\n",
       "max         5250.000000"
      ]
     },
     "execution_count": 12,
     "metadata": {},
     "output_type": "execute_result"
    }
   ],
   "source": [
    "df[['AMT_DAYS_OVERDUE']].describe(percentiles=[1/4, 2/4, 3/4, 9/10, 99/100])"
   ]
  },
  {
   "cell_type": "markdown",
   "id": "591fb2d3",
   "metadata": {},
   "source": [
    "Data was limited to up to 17 to remove outliers in favor of the visualization of data distribution."
   ]
  },
  {
   "cell_type": "markdown",
   "id": "0b624fa7",
   "metadata": {},
   "source": [
    "Considering all values"
   ]
  },
  {
   "cell_type": "code",
   "execution_count": 13,
   "id": "f3c51a69",
   "metadata": {},
   "outputs": [
    {
     "name": "stdout",
     "output_type": "stream",
     "text": [
      "Orange: paid; Blue: Defaulting\n"
     ]
    },
    {
     "data": {
      "image/png": "[encoded data removed]",
      "text/plain": [
       "<Figure size 432x288 with 1 Axes>"
      ]
     },
     "metadata": {},
     "output_type": "display_data"
    }
   ],
   "source": [
    "df.loc[(df['TARGET']==0) & (df['AMT_DAYS_OVERDUE']<=17)]['AMT_DAYS_OVERDUE'].hist(alpha = 0.5)\n",
    "df.loc[(df['TARGET']==1) & (df['AMT_DAYS_OVERDUE']<=17)]['AMT_DAYS_OVERDUE'].hist(alpha = 0.5)\n",
    "print(\"Orange: paid; Blue: Defaulting\")"
   ]
  },
  {
   "cell_type": "markdown",
   "id": "cb570987",
   "metadata": {},
   "source": [
    "Excluding values equal to 0 (zero)"
   ]
  },
  {
   "cell_type": "code",
   "execution_count": 14,
   "id": "bd7b0170",
   "metadata": {},
   "outputs": [
    {
     "name": "stdout",
     "output_type": "stream",
     "text": [
      "Orange: paid; Blue: Defaulting\n"
     ]
    },
    {
     "data": {
      "image/png": "[encoded data removed]",
      "text/plain": [
       "<Figure size 432x288 with 1 Axes>"
      ]
     },
     "metadata": {},
     "output_type": "display_data"
    }
   ],
   "source": [
    "df.loc[(df['AMT_DAYS_OVERDUE']!=0) & (df['TARGET']==0) & (df['AMT_DAYS_OVERDUE']<=17)]['AMT_DAYS_OVERDUE'].hist(alpha = 0.5)\n",
    "df.loc[(df['AMT_DAYS_OVERDUE']!=0) & (df['TARGET']==1) & (df['AMT_DAYS_OVERDUE']<=17)]['AMT_DAYS_OVERDUE'].hist(alpha = 0.5)\n",
    "print(\"Orange: paid; Blue: Defaulting\")"
   ]
  },
  {
   "cell_type": "markdown",
   "id": "23582bc9",
   "metadata": {},
   "source": [
    "## 9 Amount of approved loans from previous applications with Home Credit"
   ]
  },
  {
   "cell_type": "code",
   "execution_count": 15,
   "id": "920861cd",
   "metadata": {},
   "outputs": [
    {
     "data": {
      "text/html": [
       "<div>\n",
       "<style scoped>\n",
       "    .dataframe tbody tr th:only-of-type {\n",
       "        vertical-align: middle;\n",
       "    }\n",
       "\n",
       "    .dataframe tbody tr th {\n",
       "        vertical-align: top;\n",
       "    }\n",
       "\n",
       "    .dataframe thead th {\n",
       "        text-align: right;\n",
       "    }\n",
       "</style>\n",
       "<table border=\"1\" class=\"dataframe\">\n",
       "  <thead>\n",
       "    <tr style=\"text-align: right;\">\n",
       "      <th></th>\n",
       "      <th>AMT_APPROVED_PREVIOUS_HC_LOAN</th>\n",
       "    </tr>\n",
       "  </thead>\n",
       "  <tbody>\n",
       "    <tr>\n",
       "      <th>count</th>\n",
       "      <td>291057.000000</td>\n",
       "    </tr>\n",
       "    <tr>\n",
       "      <th>mean</th>\n",
       "      <td>3.044417</td>\n",
       "    </tr>\n",
       "    <tr>\n",
       "      <th>std</th>\n",
       "      <td>2.124588</td>\n",
       "    </tr>\n",
       "    <tr>\n",
       "      <th>min</th>\n",
       "      <td>0.000000</td>\n",
       "    </tr>\n",
       "    <tr>\n",
       "      <th>25%</th>\n",
       "      <td>1.000000</td>\n",
       "    </tr>\n",
       "    <tr>\n",
       "      <th>50%</th>\n",
       "      <td>3.000000</td>\n",
       "    </tr>\n",
       "    <tr>\n",
       "      <th>75%</th>\n",
       "      <td>4.000000</td>\n",
       "    </tr>\n",
       "    <tr>\n",
       "      <th>90%</th>\n",
       "      <td>6.000000</td>\n",
       "    </tr>\n",
       "    <tr>\n",
       "      <th>99%</th>\n",
       "      <td>10.000000</td>\n",
       "    </tr>\n",
       "    <tr>\n",
       "      <th>max</th>\n",
       "      <td>27.000000</td>\n",
       "    </tr>\n",
       "  </tbody>\n",
       "</table>\n",
       "</div>"
      ],
      "text/plain": [
       "       AMT_APPROVED_PREVIOUS_HC_LOAN\n",
       "count                  291057.000000\n",
       "mean                        3.044417\n",
       "std                         2.124588\n",
       "min                         0.000000\n",
       "25%                         1.000000\n",
       "50%                         3.000000\n",
       "75%                         4.000000\n",
       "90%                         6.000000\n",
       "99%                        10.000000\n",
       "max                        27.000000"
      ]
     },
     "execution_count": 15,
     "metadata": {},
     "output_type": "execute_result"
    }
   ],
   "source": [
    "df[['AMT_APPROVED_PREVIOUS_HC_LOAN']].describe(percentiles=[1/4, 2/4, 3/4, 9/10, 99/100])"
   ]
  },
  {
   "cell_type": "code",
   "execution_count": 16,
   "id": "377b2de9",
   "metadata": {},
   "outputs": [
    {
     "data": {
      "text/html": [
       "<div>\n",
       "<style scoped>\n",
       "    .dataframe tbody tr th:only-of-type {\n",
       "        vertical-align: middle;\n",
       "    }\n",
       "\n",
       "    .dataframe tbody tr th {\n",
       "        vertical-align: top;\n",
       "    }\n",
       "\n",
       "    .dataframe thead th {\n",
       "        text-align: right;\n",
       "    }\n",
       "</style>\n",
       "<table border=\"1\" class=\"dataframe\">\n",
       "  <thead>\n",
       "    <tr style=\"text-align: right;\">\n",
       "      <th></th>\n",
       "      <th></th>\n",
       "      <th>Distribution (%)</th>\n",
       "    </tr>\n",
       "    <tr>\n",
       "      <th>TARGET</th>\n",
       "      <th>Amount of approved loans</th>\n",
       "      <th></th>\n",
       "    </tr>\n",
       "  </thead>\n",
       "  <tbody>\n",
       "    <tr>\n",
       "      <th rowspan=\"4\" valign=\"top\">0</th>\n",
       "      <th>(1.0, 3.0]</th>\n",
       "      <td>37.654480</td>\n",
       "    </tr>\n",
       "    <tr>\n",
       "      <th>(-0.001, 1.0]</th>\n",
       "      <td>24.173615</td>\n",
       "    </tr>\n",
       "    <tr>\n",
       "      <th>(4.0, 27.0]</th>\n",
       "      <td>18.599793</td>\n",
       "    </tr>\n",
       "    <tr>\n",
       "      <th>(3.0, 4.0]</th>\n",
       "      <td>11.379558</td>\n",
       "    </tr>\n",
       "    <tr>\n",
       "      <th rowspan=\"4\" valign=\"top\">1</th>\n",
       "      <th>(1.0, 3.0]</th>\n",
       "      <td>3.446060</td>\n",
       "    </tr>\n",
       "    <tr>\n",
       "      <th>(-0.001, 1.0]</th>\n",
       "      <td>2.498823</td>\n",
       "    </tr>\n",
       "    <tr>\n",
       "      <th>(4.0, 27.0]</th>\n",
       "      <td>1.373958</td>\n",
       "    </tr>\n",
       "    <tr>\n",
       "      <th>(3.0, 4.0]</th>\n",
       "      <td>0.873712</td>\n",
       "    </tr>\n",
       "  </tbody>\n",
       "</table>\n",
       "</div>"
      ],
      "text/plain": [
       "                                 Distribution (%)\n",
       "TARGET Amount of approved loans                  \n",
       "0      (1.0, 3.0]                       37.654480\n",
       "       (-0.001, 1.0]                    24.173615\n",
       "       (4.0, 27.0]                      18.599793\n",
       "       (3.0, 4.0]                       11.379558\n",
       "1      (1.0, 3.0]                        3.446060\n",
       "       (-0.001, 1.0]                     2.498823\n",
       "       (4.0, 27.0]                       1.373958\n",
       "       (3.0, 4.0]                        0.873712"
      ]
     },
     "metadata": {},
     "output_type": "display_data"
    },
    {
     "data": {
      "text/plain": [
       "<AxesSubplot:>"
      ]
     },
     "execution_count": 16,
     "metadata": {},
     "output_type": "execute_result"
    },
    {
     "data": {
      "image/png": "[encoded data removed]",
      "text/plain": [
       "<Figure size 432x288 with 1 Axes>"
      ]
     },
     "metadata": {},
     "output_type": "display_data"
    }
   ],
   "source": [
    "df['Amount of approved loans'] = pd.qcut(df['AMT_APPROVED_PREVIOUS_HC_LOAN'],q=4)\n",
    "prev_porc = pd.DataFrame(df[['TARGET','Amount of approved loans']].value_counts(normalize=True)*100,columns=['Distribution (%)'])\n",
    "display(prev_porc)\n",
    "\n",
    "df.loc[df['TARGET']==0]['AMT_APPROVED_PREVIOUS_HC_LOAN'].hist(alpha = 0.5)\n",
    "df.loc[df['TARGET']==1]['AMT_APPROVED_PREVIOUS_HC_LOAN'].hist(alpha = 0.5)"
   ]
  },
  {
   "cell_type": "markdown",
   "id": "86f3bb1a",
   "metadata": {},
   "source": [
    "## 10 Time of relationship with Home Credit (in days)"
   ]
  },
  {
   "cell_type": "code",
   "execution_count": 17,
   "id": "28820197",
   "metadata": {},
   "outputs": [
    {
     "data": {
      "text/html": [
       "<div>\n",
       "<style scoped>\n",
       "    .dataframe tbody tr th:only-of-type {\n",
       "        vertical-align: middle;\n",
       "    }\n",
       "\n",
       "    .dataframe tbody tr th {\n",
       "        vertical-align: top;\n",
       "    }\n",
       "\n",
       "    .dataframe thead th {\n",
       "        text-align: right;\n",
       "    }\n",
       "</style>\n",
       "<table border=\"1\" class=\"dataframe\">\n",
       "  <thead>\n",
       "    <tr style=\"text-align: right;\">\n",
       "      <th></th>\n",
       "      <th>DAYS_OF_RELATIONSHIP</th>\n",
       "    </tr>\n",
       "  </thead>\n",
       "  <tbody>\n",
       "    <tr>\n",
       "      <th>count</th>\n",
       "      <td>290065.000000</td>\n",
       "    </tr>\n",
       "    <tr>\n",
       "      <th>mean</th>\n",
       "      <td>1530.571334</td>\n",
       "    </tr>\n",
       "    <tr>\n",
       "      <th>std</th>\n",
       "      <td>862.867945</td>\n",
       "    </tr>\n",
       "    <tr>\n",
       "      <th>min</th>\n",
       "      <td>2.000000</td>\n",
       "    </tr>\n",
       "    <tr>\n",
       "      <th>25%</th>\n",
       "      <td>720.000000</td>\n",
       "    </tr>\n",
       "    <tr>\n",
       "      <th>50%</th>\n",
       "      <td>1490.000000</td>\n",
       "    </tr>\n",
       "    <tr>\n",
       "      <th>75%</th>\n",
       "      <td>2379.000000</td>\n",
       "    </tr>\n",
       "    <tr>\n",
       "      <th>max</th>\n",
       "      <td>2922.000000</td>\n",
       "    </tr>\n",
       "  </tbody>\n",
       "</table>\n",
       "</div>"
      ],
      "text/plain": [
       "       DAYS_OF_RELATIONSHIP\n",
       "count         290065.000000\n",
       "mean            1530.571334\n",
       "std              862.867945\n",
       "min                2.000000\n",
       "25%              720.000000\n",
       "50%             1490.000000\n",
       "75%             2379.000000\n",
       "max             2922.000000"
      ]
     },
     "execution_count": 17,
     "metadata": {},
     "output_type": "execute_result"
    }
   ],
   "source": [
    "df[['DAYS_OF_RELATIONSHIP']].describe()"
   ]
  },
  {
   "cell_type": "code",
   "execution_count": 18,
   "id": "ee22e788",
   "metadata": {},
   "outputs": [
    {
     "data": {
      "text/plain": [
       "<AxesSubplot:>"
      ]
     },
     "execution_count": 18,
     "metadata": {},
     "output_type": "execute_result"
    },
    {
     "data": {
      "image/png": "[encoded data removed]",
      "text/plain": [
       "<Figure size 432x288 with 1 Axes>"
      ]
     },
     "metadata": {},
     "output_type": "display_data"
    }
   ],
   "source": [
    "df.loc[df['TARGET']==0]['DAYS_OF_RELATIONSHIP'].hist(alpha=0.5)\n",
    "df.loc[df['TARGET']==1]['DAYS_OF_RELATIONSHIP'].hist(alpha=0.5)"
   ]
  },
  {
   "cell_type": "markdown",
   "id": "15f6ca88",
   "metadata": {},
   "source": [
    "## 11 Longest time of delay in paying previous installments (in days)"
   ]
  },
  {
   "cell_type": "code",
   "execution_count": 19,
   "id": "bb4ae12b",
   "metadata": {},
   "outputs": [
    {
     "data": {
      "text/html": [
       "<div>\n",
       "<style scoped>\n",
       "    .dataframe tbody tr th:only-of-type {\n",
       "        vertical-align: middle;\n",
       "    }\n",
       "\n",
       "    .dataframe tbody tr th {\n",
       "        vertical-align: top;\n",
       "    }\n",
       "\n",
       "    .dataframe thead th {\n",
       "        text-align: right;\n",
       "    }\n",
       "</style>\n",
       "<table border=\"1\" class=\"dataframe\">\n",
       "  <thead>\n",
       "    <tr style=\"text-align: right;\">\n",
       "      <th></th>\n",
       "      <th>MAX_DAYS_DELAYED_INSTALLMENT_PAYMENT</th>\n",
       "    </tr>\n",
       "  </thead>\n",
       "  <tbody>\n",
       "    <tr>\n",
       "      <th>count</th>\n",
       "      <td>290131.000000</td>\n",
       "    </tr>\n",
       "    <tr>\n",
       "      <th>mean</th>\n",
       "      <td>18.255981</td>\n",
       "    </tr>\n",
       "    <tr>\n",
       "      <th>std</th>\n",
       "      <td>109.674935</td>\n",
       "    </tr>\n",
       "    <tr>\n",
       "      <th>min</th>\n",
       "      <td>0.000000</td>\n",
       "    </tr>\n",
       "    <tr>\n",
       "      <th>25%</th>\n",
       "      <td>0.000000</td>\n",
       "    </tr>\n",
       "    <tr>\n",
       "      <th>50%</th>\n",
       "      <td>1.000000</td>\n",
       "    </tr>\n",
       "    <tr>\n",
       "      <th>75%</th>\n",
       "      <td>9.000000</td>\n",
       "    </tr>\n",
       "    <tr>\n",
       "      <th>90%</th>\n",
       "      <td>25.000000</td>\n",
       "    </tr>\n",
       "    <tr>\n",
       "      <th>99%</th>\n",
       "      <td>355.000000</td>\n",
       "    </tr>\n",
       "    <tr>\n",
       "      <th>max</th>\n",
       "      <td>2882.000000</td>\n",
       "    </tr>\n",
       "  </tbody>\n",
       "</table>\n",
       "</div>"
      ],
      "text/plain": [
       "       MAX_DAYS_DELAYED_INSTALLMENT_PAYMENT\n",
       "count                         290131.000000\n",
       "mean                              18.255981\n",
       "std                              109.674935\n",
       "min                                0.000000\n",
       "25%                                0.000000\n",
       "50%                                1.000000\n",
       "75%                                9.000000\n",
       "90%                               25.000000\n",
       "99%                              355.000000\n",
       "max                             2882.000000"
      ]
     },
     "execution_count": 19,
     "metadata": {},
     "output_type": "execute_result"
    }
   ],
   "source": [
    "df[['MAX_DAYS_DELAYED_INSTALLMENT_PAYMENT']].describe(percentiles=[1/4, 2/4, 3/4, 9/10, 99/100])"
   ]
  },
  {
   "cell_type": "markdown",
   "id": "5ee6fdf9",
   "metadata": {},
   "source": [
    "100% of data:"
   ]
  },
  {
   "cell_type": "code",
   "execution_count": 20,
   "id": "c3b21f1f",
   "metadata": {},
   "outputs": [
    {
     "data": {
      "text/plain": [
       "<AxesSubplot:>"
      ]
     },
     "execution_count": 20,
     "metadata": {},
     "output_type": "execute_result"
    },
    {
     "data": {
      "image/png": "[encoded data removed]",
      "text/plain": [
       "<Figure size 432x288 with 1 Axes>"
      ]
     },
     "metadata": {},
     "output_type": "display_data"
    }
   ],
   "source": [
    "df.loc[df['TARGET']==0]['MAX_DAYS_DELAYED_INSTALLMENT_PAYMENT'].hist(alpha=0.5)\n",
    "df.loc[df['TARGET']==1]['MAX_DAYS_DELAYED_INSTALLMENT_PAYMENT'].hist(alpha=0.5)"
   ]
  },
  {
   "cell_type": "markdown",
   "id": "96ab0d12",
   "metadata": {},
   "source": [
    "90% of data:"
   ]
  },
  {
   "cell_type": "code",
   "execution_count": 21,
   "id": "73e55125",
   "metadata": {},
   "outputs": [
    {
     "data": {
      "text/plain": [
       "<AxesSubplot:>"
      ]
     },
     "execution_count": 21,
     "metadata": {},
     "output_type": "execute_result"
    },
    {
     "data": {
      "image/png": "[encoded data removed]",
      "text/plain": [
       "<Figure size 432x288 with 1 Axes>"
      ]
     },
     "metadata": {},
     "output_type": "display_data"
    }
   ],
   "source": [
    "df.loc[(df['TARGET']==0) & (df['MAX_DAYS_DELAYED_INSTALLMENT_PAYMENT']<=25)]['MAX_DAYS_DELAYED_INSTALLMENT_PAYMENT'].hist(alpha=0.5)\r\n",
    "df.loc[(df['TARGET']==1) & (df['MAX_DAYS_DELAYED_INSTALLMENT_PAYMENT']<=25)]['MAX_DAYS_DELAYED_INSTALLMENT_PAYMENT'].hist(alpha=0.5)"
   ]
  },
  {
   "cell_type": "markdown",
   "id": "15e255b3",
   "metadata": {},
   "source": [
    "## 12 Average time of delay of installments on paying past Home Credit loans (in days)"
   ]
  },
  {
   "cell_type": "code",
   "execution_count": 22,
   "id": "825e26ce",
   "metadata": {},
   "outputs": [
    {
     "data": {
      "text/html": [
       "<div>\n",
       "<style scoped>\n",
       "    .dataframe tbody tr th:only-of-type {\n",
       "        vertical-align: middle;\n",
       "    }\n",
       "\n",
       "    .dataframe tbody tr th {\n",
       "        vertical-align: top;\n",
       "    }\n",
       "\n",
       "    .dataframe thead th {\n",
       "        text-align: right;\n",
       "    }\n",
       "</style>\n",
       "<table border=\"1\" class=\"dataframe\">\n",
       "  <thead>\n",
       "    <tr style=\"text-align: right;\">\n",
       "      <th></th>\n",
       "      <th>MEAN_DAYS_DELAYED_INSTALLMENT_PAYMENT</th>\n",
       "    </tr>\n",
       "  </thead>\n",
       "  <tbody>\n",
       "    <tr>\n",
       "      <th>count</th>\n",
       "      <td>290131.000000</td>\n",
       "    </tr>\n",
       "    <tr>\n",
       "      <th>mean</th>\n",
       "      <td>1.050434</td>\n",
       "    </tr>\n",
       "    <tr>\n",
       "      <th>std</th>\n",
       "      <td>8.832860</td>\n",
       "    </tr>\n",
       "    <tr>\n",
       "      <th>min</th>\n",
       "      <td>0.000000</td>\n",
       "    </tr>\n",
       "    <tr>\n",
       "      <th>25%</th>\n",
       "      <td>0.000000</td>\n",
       "    </tr>\n",
       "    <tr>\n",
       "      <th>50%</th>\n",
       "      <td>0.038462</td>\n",
       "    </tr>\n",
       "    <tr>\n",
       "      <th>75%</th>\n",
       "      <td>0.517493</td>\n",
       "    </tr>\n",
       "    <tr>\n",
       "      <th>90%</th>\n",
       "      <td>1.821429</td>\n",
       "    </tr>\n",
       "    <tr>\n",
       "      <th>99%</th>\n",
       "      <td>14.100000</td>\n",
       "    </tr>\n",
       "    <tr>\n",
       "      <th>max</th>\n",
       "      <td>1885.386364</td>\n",
       "    </tr>\n",
       "  </tbody>\n",
       "</table>\n",
       "</div>"
      ],
      "text/plain": [
       "       MEAN_DAYS_DELAYED_INSTALLMENT_PAYMENT\n",
       "count                          290131.000000\n",
       "mean                                1.050434\n",
       "std                                 8.832860\n",
       "min                                 0.000000\n",
       "25%                                 0.000000\n",
       "50%                                 0.038462\n",
       "75%                                 0.517493\n",
       "90%                                 1.821429\n",
       "99%                                14.100000\n",
       "max                              1885.386364"
      ]
     },
     "execution_count": 22,
     "metadata": {},
     "output_type": "execute_result"
    }
   ],
   "source": [
    "df[['MEAN_DAYS_DELAYED_INSTALLMENT_PAYMENT']].describe(percentiles=[1/4, 2/4, 3/4, 9/10, 99/100])"
   ]
  },
  {
   "cell_type": "code",
   "execution_count": 23,
   "id": "8c4b143a",
   "metadata": {},
   "outputs": [
    {
     "data": {
      "text/plain": [
       "<AxesSubplot:>"
      ]
     },
     "execution_count": 23,
     "metadata": {},
     "output_type": "execute_result"
    },
    {
     "data": {
      "image/png": "[encoded data removed]",
      "text/plain": [
       "<Figure size 432x288 with 1 Axes>"
      ]
     },
     "metadata": {},
     "output_type": "display_data"
    }
   ],
   "source": [
    "df.loc[df['TARGET']==0]['MEAN_DAYS_DELAYED_INSTALLMENT_PAYMENT'].hist(alpha=0.5)\n",
    "df.loc[df['TARGET']==1]['MEAN_DAYS_DELAYED_INSTALLMENT_PAYMENT'].hist(alpha=0.5)"
   ]
  },
  {
   "cell_type": "code",
   "execution_count": 24,
   "id": "4f4071c6",
   "metadata": {},
   "outputs": [
    {
     "data": {
      "text/plain": [
       "<AxesSubplot:>"
      ]
     },
     "execution_count": 24,
     "metadata": {},
     "output_type": "execute_result"
    },
    {
     "data": {
      "image/png": "[encoded data removed]",
      "text/plain": [
       "<Figure size 432x288 with 1 Axes>"
      ]
     },
     "metadata": {},
     "output_type": "display_data"
    }
   ],
   "source": [
    "df.loc[(df['TARGET']==0) & (df['MEAN_DAYS_DELAYED_INSTALLMENT_PAYMENT']<=2)]['MEAN_DAYS_DELAYED_INSTALLMENT_PAYMENT'].hist(alpha=0.5)\n",
    "df.loc[(df['TARGET']==1) & (df['MEAN_DAYS_DELAYED_INSTALLMENT_PAYMENT']<=2)]['MEAN_DAYS_DELAYED_INSTALLMENT_PAYMENT'].hist(alpha=0.5)"
   ]
  },
  {
   "cell_type": "markdown",
   "id": "bcea12a0",
   "metadata": {},
   "source": [
    "## 13 Accumulated debts of installments on paying past Home Credit loans (normalized)"
   ]
  },
  {
   "cell_type": "code",
   "execution_count": 25,
   "id": "9e05000d",
   "metadata": {},
   "outputs": [
    {
     "data": {
      "text/html": [
       "<div>\n",
       "<style scoped>\n",
       "    .dataframe tbody tr th:only-of-type {\n",
       "        vertical-align: middle;\n",
       "    }\n",
       "\n",
       "    .dataframe tbody tr th {\n",
       "        vertical-align: top;\n",
       "    }\n",
       "\n",
       "    .dataframe thead th {\n",
       "        text-align: right;\n",
       "    }\n",
       "</style>\n",
       "<table border=\"1\" class=\"dataframe\">\n",
       "  <thead>\n",
       "    <tr style=\"text-align: right;\">\n",
       "      <th></th>\n",
       "      <th>ACCUMULATED_INSTALLMENT_PAYMENT_MISSING</th>\n",
       "    </tr>\n",
       "  </thead>\n",
       "  <tbody>\n",
       "    <tr>\n",
       "      <th>count</th>\n",
       "      <td>290131.000000</td>\n",
       "    </tr>\n",
       "    <tr>\n",
       "      <th>mean</th>\n",
       "      <td>0.404725</td>\n",
       "    </tr>\n",
       "    <tr>\n",
       "      <th>std</th>\n",
       "      <td>0.472351</td>\n",
       "    </tr>\n",
       "    <tr>\n",
       "      <th>min</th>\n",
       "      <td>0.000000</td>\n",
       "    </tr>\n",
       "    <tr>\n",
       "      <th>25%</th>\n",
       "      <td>0.000000</td>\n",
       "    </tr>\n",
       "    <tr>\n",
       "      <th>50%</th>\n",
       "      <td>0.000000</td>\n",
       "    </tr>\n",
       "    <tr>\n",
       "      <th>75%</th>\n",
       "      <td>0.985679</td>\n",
       "    </tr>\n",
       "    <tr>\n",
       "      <th>90%</th>\n",
       "      <td>0.999274</td>\n",
       "    </tr>\n",
       "    <tr>\n",
       "      <th>99%</th>\n",
       "      <td>0.999983</td>\n",
       "    </tr>\n",
       "    <tr>\n",
       "      <th>max</th>\n",
       "      <td>1.000000</td>\n",
       "    </tr>\n",
       "  </tbody>\n",
       "</table>\n",
       "</div>"
      ],
      "text/plain": [
       "       ACCUMULATED_INSTALLMENT_PAYMENT_MISSING\n",
       "count                            290131.000000\n",
       "mean                                  0.404725\n",
       "std                                   0.472351\n",
       "min                                   0.000000\n",
       "25%                                   0.000000\n",
       "50%                                   0.000000\n",
       "75%                                   0.985679\n",
       "90%                                   0.999274\n",
       "99%                                   0.999983\n",
       "max                                   1.000000"
      ]
     },
     "execution_count": 25,
     "metadata": {},
     "output_type": "execute_result"
    }
   ],
   "source": [
    "df[['ACCUMULATED_INSTALLMENT_PAYMENT_MISSING']].describe(percentiles=[1/4, 2/4, 3/4, 9/10, 99/100])"
   ]
  },
  {
   "cell_type": "code",
   "execution_count": 26,
   "id": "33b1c9b1",
   "metadata": {},
   "outputs": [
    {
     "data": {
      "text/plain": [
       "<AxesSubplot:>"
      ]
     },
     "execution_count": 26,
     "metadata": {},
     "output_type": "execute_result"
    },
    {
     "data": {
      "image/png": "[encoded data removed]",
      "text/plain": [
       "<Figure size 432x288 with 1 Axes>"
      ]
     },
     "metadata": {},
     "output_type": "display_data"
    }
   ],
   "source": [
    "df.loc[df['TARGET']==0]['ACCUMULATED_INSTALLMENT_PAYMENT_MISSING'].hist(alpha=0.5)\n",
    "df.loc[df['TARGET']==1]['ACCUMULATED_INSTALLMENT_PAYMENT_MISSING'].hist(alpha=0.5)"
   ]
  }
 ],
 "metadata": {
  "interpreter": {
   "hash": "861a53d6685af4098891c2e6a177eecfc37d3b163afe8c9a637e39b03e4b40c0"
  },
  "kernelspec": {
   "display_name": "Python 3",
   "language": "python",
   "name": "python3"
  },
  "language_info": {
   "codemirror_mode": {
    "name": "ipython",
    "version": 3
   },
   "file_extension": ".py",
   "mimetype": "text/x-python",
   "name": "python",
   "nbconvert_exporter": "python",
   "pygments_lexer": "ipython3",
   "version": "3.9.0"
  }
 },
 "nbformat": 4,
 "nbformat_minor": 5
}
